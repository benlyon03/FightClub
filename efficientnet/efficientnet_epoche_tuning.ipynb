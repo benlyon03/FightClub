{
 "cells": [
  {
   "cell_type": "code",
   "execution_count": 1,
   "metadata": {},
   "outputs": [],
   "source": [
    "%%capture\n",
    "%pip install opencv-python\n",
    "%pip install tqdm\n",
    "%pip install tensorflow\n",
    "%pip install imageio\n",
    "%pip install tensorflow_docs\n",
    "%pip install scikit-learn\n",
    "%pip install matplotlib"
   ]
  },
  {
   "cell_type": "code",
   "execution_count": 2,
   "metadata": {},
   "outputs": [
    {
     "name": "stdout",
     "output_type": "stream",
     "text": [
      "Collecting git+https://github.com/tensorflow/docs\n",
      "  Cloning https://github.com/tensorflow/docs to c:\\users\\bhuynh26\\appdata\\local\\temp\\pip-req-build-mm15kruc\n",
      "  Resolved https://github.com/tensorflow/docs to commit 60abeb06e500fa5edbbac374fc0d8142c8322aef\n",
      "  Preparing metadata (setup.py): started\n",
      "  Preparing metadata (setup.py): finished with status 'done'\n",
      "Requirement already satisfied: astor in c:\\users\\bhuynh26\\appdata\\local\\anaconda3\\lib\\site-packages (from tensorflow-docs==2023.10.27.81990) (0.8.1)\n",
      "Requirement already satisfied: absl-py in c:\\users\\bhuynh26\\appdata\\local\\anaconda3\\lib\\site-packages (from tensorflow-docs==2023.10.27.81990) (2.0.0)\n",
      "Requirement already satisfied: jinja2 in c:\\users\\bhuynh26\\appdata\\local\\anaconda3\\lib\\site-packages (from tensorflow-docs==2023.10.27.81990) (3.1.2)\n",
      "Requirement already satisfied: nbformat in c:\\users\\bhuynh26\\appdata\\local\\anaconda3\\lib\\site-packages (from tensorflow-docs==2023.10.27.81990) (5.9.2)\n",
      "Requirement already satisfied: protobuf>=3.12 in c:\\users\\bhuynh26\\appdata\\local\\anaconda3\\lib\\site-packages (from tensorflow-docs==2023.10.27.81990) (4.25.0)\n",
      "Requirement already satisfied: pyyaml in c:\\users\\bhuynh26\\appdata\\local\\anaconda3\\lib\\site-packages (from tensorflow-docs==2023.10.27.81990) (6.0)\n",
      "Requirement already satisfied: MarkupSafe>=2.0 in c:\\users\\bhuynh26\\appdata\\local\\anaconda3\\lib\\site-packages (from jinja2->tensorflow-docs==2023.10.27.81990) (2.1.1)\n",
      "Requirement already satisfied: fastjsonschema in c:\\users\\bhuynh26\\appdata\\local\\anaconda3\\lib\\site-packages (from nbformat->tensorflow-docs==2023.10.27.81990) (2.16.2)\n",
      "Requirement already satisfied: jsonschema>=2.6 in c:\\users\\bhuynh26\\appdata\\local\\anaconda3\\lib\\site-packages (from nbformat->tensorflow-docs==2023.10.27.81990) (4.17.3)\n",
      "Requirement already satisfied: jupyter-core in c:\\users\\bhuynh26\\appdata\\local\\anaconda3\\lib\\site-packages (from nbformat->tensorflow-docs==2023.10.27.81990) (5.3.0)\n",
      "Requirement already satisfied: traitlets>=5.1 in c:\\users\\bhuynh26\\appdata\\local\\anaconda3\\lib\\site-packages (from nbformat->tensorflow-docs==2023.10.27.81990) (5.7.1)\n",
      "Requirement already satisfied: attrs>=17.4.0 in c:\\users\\bhuynh26\\appdata\\local\\anaconda3\\lib\\site-packages (from jsonschema>=2.6->nbformat->tensorflow-docs==2023.10.27.81990) (22.1.0)\n",
      "Requirement already satisfied: pyrsistent!=0.17.0,!=0.17.1,!=0.17.2,>=0.14.0 in c:\\users\\bhuynh26\\appdata\\local\\anaconda3\\lib\\site-packages (from jsonschema>=2.6->nbformat->tensorflow-docs==2023.10.27.81990) (0.18.0)\n",
      "Requirement already satisfied: platformdirs>=2.5 in c:\\users\\bhuynh26\\appdata\\local\\anaconda3\\lib\\site-packages (from jupyter-core->nbformat->tensorflow-docs==2023.10.27.81990) (3.10.0)\n",
      "Requirement already satisfied: pywin32>=300 in c:\\users\\bhuynh26\\appdata\\local\\anaconda3\\lib\\site-packages (from jupyter-core->nbformat->tensorflow-docs==2023.10.27.81990) (305.1)\n",
      "Note: you may need to restart the kernel to use updated packages.\n"
     ]
    },
    {
     "name": "stderr",
     "output_type": "stream",
     "text": [
      "  Running command git clone --filter=blob:none --quiet https://github.com/tensorflow/docs 'C:\\Users\\bhuynh26\\AppData\\Local\\Temp\\pip-req-build-mm15kruc'\n"
     ]
    }
   ],
   "source": [
    "# %%python -m pip install opencv-python\n",
    "%pip install git+https://github.com/tensorflow/docs"
   ]
  },
  {
   "cell_type": "code",
   "execution_count": 2,
   "metadata": {},
   "outputs": [
    {
     "name": "stdout",
     "output_type": "stream",
     "text": [
      "WARNING:tensorflow:From c:\\Users\\bhuynh26\\AppData\\Local\\anaconda3\\Lib\\site-packages\\keras\\src\\losses.py:2976: The name tf.losses.sparse_softmax_cross_entropy is deprecated. Please use tf.compat.v1.losses.sparse_softmax_cross_entropy instead.\n",
      "\n"
     ]
    }
   ],
   "source": [
    "import random\n",
    "import pathlib\n",
    "from sklearn.metrics import classification_report, confusion_matrix, ConfusionMatrixDisplay\n",
    "import itertools\n",
    "from pathlib import Path\n",
    "import matplotlib.pyplot as plt\n",
    "import os\n",
    "import cv2\n",
    "import numpy as np\n",
    "import tensorflow as tf\n",
    "import imageio\n",
    "from IPython import display\n",
    "from urllib import request\n",
    "from tensorflow_docs.vis import embed\n",
    "from tensorflow.keras.metrics import Precision, Recall"
   ]
  },
  {
   "cell_type": "code",
   "execution_count": 3,
   "metadata": {},
   "outputs": [],
   "source": [
    "subset_paths = {}\n",
    "subset_paths['train'] = Path('../Data/train')\n",
    "subset_paths['test'] = Path('../Data/test')\n",
    "subset_paths['val'] = Path('../Data/val')"
   ]
  },
  {
   "cell_type": "code",
   "execution_count": 4,
   "metadata": {},
   "outputs": [],
   "source": [
    "def format_frames(frame, output_size):\n",
    "    \"\"\"\n",
    "      Pad and resize an image from a video.\n",
    "\n",
    "      Args:\n",
    "        frame: Image that needs to resized and padded.\n",
    "        output_size: Pixel size of the output frame image.\n",
    "\n",
    "      Return:\n",
    "        Formatted frame with padding of specified output size.\n",
    "    \"\"\"\n",
    "    frame = tf.image.convert_image_dtype(frame, tf.float32)\n",
    "    frame = tf.image.resize_with_pad(frame, *output_size)\n",
    "    return frame"
   ]
  },
  {
   "cell_type": "code",
   "execution_count": 5,
   "metadata": {},
   "outputs": [],
   "source": [
    "\n",
    "def frames_from_video_file(video_path, n_frames, output_size=(224, 224), frame_step=15):\n",
    "    \"\"\"\n",
    "      Creates frames from each video file present for each category.\n",
    "\n",
    "      Args:\n",
    "        video_path: File path to the video.\n",
    "        n_frames: Number of frames to be created per video file.\n",
    "        output_size: Pixel size of the output frame image.\n",
    "\n",
    "      Return:\n",
    "        An NumPy array of frames in the shape of (n_frames, height, width, channels).\n",
    "    \"\"\"\n",
    "    # Read each video frame by frame\n",
    "    result = []\n",
    "    src = cv2.VideoCapture(str(video_path))\n",
    "\n",
    "    video_length = src.get(cv2.CAP_PROP_FRAME_COUNT)\n",
    "\n",
    "    need_length = 1 + (n_frames - 1) * frame_step\n",
    "\n",
    "    if need_length > video_length:\n",
    "        start = 0\n",
    "    else:\n",
    "        max_start = video_length - need_length\n",
    "        start = random.randint(0, max_start + 1)\n",
    "\n",
    "    src.set(cv2.CAP_PROP_POS_FRAMES, start)\n",
    "    # ret is a boolean indicating whether read was successful, frame is the image itself\n",
    "    ret, frame = src.read()\n",
    "    result.append(format_frames(frame, output_size))\n",
    "\n",
    "    for _ in range(n_frames - 1):\n",
    "        for _ in range(frame_step):\n",
    "            ret, frame = src.read()\n",
    "        if ret:\n",
    "            frame = format_frames(frame, output_size)\n",
    "            result.append(frame)\n",
    "        else:\n",
    "            result.append(np.zeros_like(result[0]))\n",
    "    src.release()\n",
    "    result = np.array(result)[..., [2, 1, 0]]\n",
    "\n",
    "    return result"
   ]
  },
  {
   "cell_type": "code",
   "execution_count": 6,
   "metadata": {},
   "outputs": [],
   "source": [
    "\n",
    "class FrameGenerator:\n",
    "    def __init__(self, path, n_frames, training=False):\n",
    "        \"\"\" Returns a set of frames with their associated label.\n",
    "\n",
    "          Args:\n",
    "            path: Video file paths.\n",
    "            n_frames: Number of frames.\n",
    "            training: Boolean to determine if training dataset is being created.\n",
    "        \"\"\"\n",
    "        self.path = path\n",
    "        self.n_frames = n_frames\n",
    "        self.training = training\n",
    "        self.class_names = sorted(\n",
    "            set(p.name for p in self.path.iterdir() if p.is_dir()))\n",
    "        self.class_ids_for_name = dict((name, idx)\n",
    "                                       for idx, name in enumerate(self.class_names))\n",
    "\n",
    "    def get_files_and_class_names(self):\n",
    "        video_paths = list(self.path.glob('*/*.mp4'))\n",
    "        classes = [p.parent.name for p in video_paths]\n",
    "        return video_paths, classes\n",
    "\n",
    "    def __call__(self):\n",
    "        video_paths, classes = self.get_files_and_class_names()\n",
    "        pairs = list(zip(video_paths, classes))\n",
    "\n",
    "        if self.training:\n",
    "            random.shuffle(pairs)\n",
    "\n",
    "        for path, name in pairs:\n",
    "            video_frames = frames_from_video_file(path, self.n_frames)\n",
    "            label = self.class_ids_for_name[name]  # Encode labels\n",
    "            yield video_frames, label\n"
   ]
  },
  {
   "cell_type": "code",
   "execution_count": 7,
   "metadata": {},
   "outputs": [],
   "source": [
    "output_signature = (tf.TensorSpec(shape=(None, None, None, 3), dtype=tf.float32),\n",
    "                    tf.TensorSpec(shape=(), dtype=tf.int16))"
   ]
  },
  {
   "cell_type": "code",
   "execution_count": 8,
   "metadata": {},
   "outputs": [],
   "source": [
    "train_ds = tf.data.Dataset.from_generator(FrameGenerator(\n",
    "    subset_paths['train'], 6, training=True),                                        output_signature=output_signature)\n",
    "\n",
    "val_ds = tf.data.Dataset.from_generator(FrameGenerator(subset_paths['val'], 6),\n",
    "                                        output_signature=output_signature)\n",
    "\n",
    "# create the test set\n",
    "test_ds = tf.data.Dataset.from_generator(FrameGenerator(subset_paths['test'], 6),\n",
    "                                         output_signature=output_signature)"
   ]
  },
  {
   "cell_type": "code",
   "execution_count": 9,
   "metadata": {},
   "outputs": [],
   "source": [
    "train_frames, train_labels = next(iter(train_ds))\n",
    "val_frames, val_labels = next(iter(val_ds))"
   ]
  },
  {
   "cell_type": "code",
   "execution_count": 10,
   "metadata": {},
   "outputs": [
    {
     "name": "stdout",
     "output_type": "stream",
     "text": [
      "Shape of validation set of frames: (6, 224, 224, 3)\n",
      "Shape of validation labels: ()\n"
     ]
    }
   ],
   "source": [
    "print(f'Shape of validation set of frames: {val_frames.shape}')\n",
    "print(f'Shape of validation labels: {val_labels.shape}')"
   ]
  },
  {
   "cell_type": "code",
   "execution_count": 11,
   "metadata": {},
   "outputs": [
    {
     "name": "stdout",
     "output_type": "stream",
     "text": [
      "Shape of training set of frames: (6, 224, 224, 3)\n",
      "Shape of training labels: ()\n"
     ]
    }
   ],
   "source": [
    "print(f'Shape of training set of frames: {train_frames.shape}')\n",
    "print(f'Shape of training labels: {train_labels.shape}')"
   ]
  },
  {
   "cell_type": "code",
   "execution_count": 12,
   "metadata": {},
   "outputs": [],
   "source": [
    "AUTOTUNE = tf.data.AUTOTUNE\n",
    "\n",
    "train_ds = train_ds.cache().shuffle(1000).prefetch(buffer_size=AUTOTUNE)\n",
    "val_ds = val_ds.cache().shuffle(1000).prefetch(buffer_size=AUTOTUNE)\n"
   ]
  },
  {
   "cell_type": "code",
   "execution_count": 13,
   "metadata": {},
   "outputs": [],
   "source": [
    "batch_size = 3\n",
    "train_ds = train_ds.batch(batch_size)\n",
    "val_ds = val_ds.batch(batch_size)"
   ]
  },
  {
   "cell_type": "code",
   "execution_count": 14,
   "metadata": {},
   "outputs": [
    {
     "name": "stdout",
     "output_type": "stream",
     "text": [
      "WARNING:tensorflow:From c:\\Users\\bhuynh26\\AppData\\Local\\anaconda3\\Lib\\site-packages\\keras\\src\\backend.py:1398: The name tf.executing_eagerly_outside_functions is deprecated. Please use tf.compat.v1.executing_eagerly_outside_functions instead.\n",
      "\n",
      "WARNING:tensorflow:From c:\\Users\\bhuynh26\\AppData\\Local\\anaconda3\\Lib\\site-packages\\keras\\src\\layers\\normalization\\batch_normalization.py:979: The name tf.nn.fused_batch_norm is deprecated. Please use tf.compat.v1.nn.fused_batch_norm instead.\n",
      "\n"
     ]
    }
   ],
   "source": [
    "net = tf.keras.applications.EfficientNetB0(include_top=False)\n",
    "net.trainable = False"
   ]
  },
  {
   "cell_type": "code",
   "execution_count": 15,
   "metadata": {},
   "outputs": [],
   "source": [
    "model = tf.keras.Sequential([\n",
    "    tf.keras.layers.Rescaling(scale=255),\n",
    "    tf.keras.layers.TimeDistributed(net),\n",
    "    tf.keras.layers.Dense(10),\n",
    "    tf.keras.layers.GlobalAveragePooling3D(),\n",
    "    tf.keras.layers.Dense(1, activation='sigmoid')\n",
    "])"
   ]
  },
  {
   "cell_type": "code",
   "execution_count": 16,
   "metadata": {},
   "outputs": [
    {
     "name": "stdout",
     "output_type": "stream",
     "text": [
      "WARNING:tensorflow:From c:\\Users\\bhuynh26\\AppData\\Local\\anaconda3\\Lib\\site-packages\\keras\\src\\optimizers\\__init__.py:309: The name tf.train.Optimizer is deprecated. Please use tf.compat.v1.train.Optimizer instead.\n",
      "\n"
     ]
    }
   ],
   "source": [
    "metrics = [tf.keras.metrics.AUC(), tf.keras.metrics.Recall(), tf.keras.metrics.Precision(), tf.keras.metrics.BinaryAccuracy(), tf.keras.metrics.TruePositives(), tf.keras.metrics.TrueNegatives(), tf.keras.metrics.FalseNegatives(), tf.keras.metrics.FalsePositives()]\n",
    "\n",
    "\n",
    "model.compile(optimizer='adam',\n",
    "              loss='binary_crossentropy',\n",
    "              metrics=metrics)"
   ]
  },
  {
   "cell_type": "code",
   "execution_count": 18,
   "metadata": {},
   "outputs": [
    {
     "name": "stdout",
     "output_type": "stream",
     "text": [
      "Epoch 1/10\n"
     ]
    },
    {
     "name": "stdout",
     "output_type": "stream",
     "text": [
      "228/228 [==============================] - 71s 312ms/step - loss: 0.1192 - auc: 0.9835 - recall: 0.8509 - precision: 0.9065 - binary_accuracy: 0.9605 - true_positives: 97.0000 - true_negatives: 560.0000 - false_negatives: 17.0000 - false_positives: 10.0000 - val_loss: 0.0934 - val_auc: 0.9924 - val_recall: 0.8684 - val_precision: 0.9167 - val_binary_accuracy: 0.9651 - val_true_positives: 33.0000 - val_true_negatives: 188.0000 - val_false_negatives: 5.0000 - val_false_positives: 3.0000\n",
      "Epoch 2/10\n",
      "228/228 [==============================] - 72s 318ms/step - loss: 0.0862 - auc: 0.9913 - recall: 0.8860 - precision: 0.9266 - binary_accuracy: 0.9693 - true_positives: 101.0000 - true_negatives: 562.0000 - false_negatives: 13.0000 - false_positives: 8.0000 - val_loss: 0.0908 - val_auc: 0.9921 - val_recall: 0.8421 - val_precision: 0.9143 - val_binary_accuracy: 0.9607 - val_true_positives: 32.0000 - val_true_negatives: 188.0000 - val_false_negatives: 6.0000 - val_false_positives: 3.0000\n",
      "Epoch 3/10\n",
      "228/228 [==============================] - 71s 311ms/step - loss: 0.0571 - auc: 0.9976 - recall: 0.9035 - precision: 0.9450 - binary_accuracy: 0.9751 - true_positives: 103.0000 - true_negatives: 564.0000 - false_negatives: 11.0000 - false_positives: 6.0000 - val_loss: 0.0848 - val_auc: 0.9929 - val_recall: 0.8158 - val_precision: 0.9688 - val_binary_accuracy: 0.9651 - val_true_positives: 31.0000 - val_true_negatives: 190.0000 - val_false_negatives: 7.0000 - val_false_positives: 1.0000\n",
      "Epoch 4/10\n",
      "228/228 [==============================] - 72s 315ms/step - loss: 0.0385 - auc: 0.9990 - recall: 0.9649 - precision: 0.9821 - binary_accuracy: 0.9912 - true_positives: 110.0000 - true_negatives: 568.0000 - false_negatives: 4.0000 - false_positives: 2.0000 - val_loss: 0.0775 - val_auc: 0.9924 - val_recall: 0.9211 - val_precision: 0.9211 - val_binary_accuracy: 0.9738 - val_true_positives: 35.0000 - val_true_negatives: 188.0000 - val_false_negatives: 3.0000 - val_false_positives: 3.0000\n",
      "Epoch 5/10\n",
      "228/228 [==============================] - 71s 310ms/step - loss: 0.0276 - auc: 0.9996 - recall: 0.9737 - precision: 0.9823 - binary_accuracy: 0.9927 - true_positives: 111.0000 - true_negatives: 568.0000 - false_negatives: 3.0000 - false_positives: 2.0000 - val_loss: 0.0753 - val_auc: 0.9935 - val_recall: 0.9211 - val_precision: 0.9211 - val_binary_accuracy: 0.9738 - val_true_positives: 35.0000 - val_true_negatives: 188.0000 - val_false_negatives: 3.0000 - val_false_positives: 3.0000\n",
      "Epoch 6/10\n",
      "228/228 [==============================] - 71s 314ms/step - loss: 0.0217 - auc: 0.9998 - recall: 0.9825 - precision: 0.9912 - binary_accuracy: 0.9956 - true_positives: 112.0000 - true_negatives: 569.0000 - false_negatives: 2.0000 - false_positives: 1.0000 - val_loss: 0.0862 - val_auc: 0.9923 - val_recall: 0.8947 - val_precision: 0.8718 - val_binary_accuracy: 0.9607 - val_true_positives: 34.0000 - val_true_negatives: 186.0000 - val_false_negatives: 4.0000 - val_false_positives: 5.0000\n",
      "Epoch 7/10\n",
      "228/228 [==============================] - 68s 299ms/step - loss: 0.0131 - auc: 0.9999 - recall: 0.9912 - precision: 0.9912 - binary_accuracy: 0.9971 - true_positives: 113.0000 - true_negatives: 569.0000 - false_negatives: 1.0000 - false_positives: 1.0000 - val_loss: 0.1158 - val_auc: 0.9914 - val_recall: 0.7368 - val_precision: 0.9655 - val_binary_accuracy: 0.9520 - val_true_positives: 28.0000 - val_true_negatives: 190.0000 - val_false_negatives: 10.0000 - val_false_positives: 1.0000\n",
      "Epoch 8/10\n",
      "228/228 [==============================] - 67s 296ms/step - loss: 0.0071 - auc: 1.0000 - recall: 1.0000 - precision: 1.0000 - binary_accuracy: 1.0000 - true_positives: 114.0000 - true_negatives: 570.0000 - false_negatives: 0.0000e+00 - false_positives: 0.0000e+00 - val_loss: 0.0905 - val_auc: 0.9922 - val_recall: 0.8947 - val_precision: 0.8718 - val_binary_accuracy: 0.9607 - val_true_positives: 34.0000 - val_true_negatives: 186.0000 - val_false_negatives: 4.0000 - val_false_positives: 5.0000\n",
      "Epoch 9/10\n",
      "228/228 [==============================] - 68s 299ms/step - loss: 0.0066 - auc: 1.0000 - recall: 1.0000 - precision: 1.0000 - binary_accuracy: 1.0000 - true_positives: 114.0000 - true_negatives: 570.0000 - false_negatives: 0.0000e+00 - false_positives: 0.0000e+00 - val_loss: 0.1131 - val_auc: 0.9901 - val_recall: 0.7895 - val_precision: 0.9091 - val_binary_accuracy: 0.9520 - val_true_positives: 30.0000 - val_true_negatives: 188.0000 - val_false_negatives: 8.0000 - val_false_positives: 3.0000\n",
      "Epoch 10/10\n",
      "228/228 [==============================] - 69s 301ms/step - loss: 0.0038 - auc: 1.0000 - recall: 1.0000 - precision: 1.0000 - binary_accuracy: 1.0000 - true_positives: 114.0000 - true_negatives: 570.0000 - false_negatives: 0.0000e+00 - false_positives: 0.0000e+00 - val_loss: 0.1040 - val_auc: 0.9910 - val_recall: 0.8947 - val_precision: 0.8718 - val_binary_accuracy: 0.9607 - val_true_positives: 34.0000 - val_true_negatives: 186.0000 - val_false_negatives: 4.0000 - val_false_positives: 5.0000\n"
     ]
    }
   ],
   "source": [
    "history = model.fit(train_ds,\n",
    "          epochs=10,\n",
    "          validation_data=val_ds,\n",
    "          callbacks=tf.keras.callbacks.EarlyStopping(patience=2, monitor='binary_accuracy', mode='max', restore_best_weights=True))"
   ]
  },
  {
   "cell_type": "code",
   "execution_count": 19,
   "metadata": {},
   "outputs": [
    {
     "data": {
      "image/png": "[encoded data removed]",
      "text/plain": [
       "<Figure size 640x480 with 1 Axes>"
      ]
     },
     "metadata": {},
     "output_type": "display_data"
    },
    {
     "data": {
      "text/plain": [
       "'\\nTODO: \\nThe validation_loss is increasing which could mean the model is overfitting.\\nWorking on adjusting stopping parameters.\\n'"
      ]
     },
     "execution_count": 19,
     "metadata": {},
     "output_type": "execute_result"
    }
   ],
   "source": [
    "# Plot training history\n",
    "import matplotlib.pyplot as plt\n",
    "\n",
    "# Access the training history from the 'history' object\n",
    "plt.plot(history.history['loss'], label='training_loss')\n",
    "plt.plot(history.history['val_loss'], label='validation_loss')\n",
    "\n",
    "# Label the axes and add a legend\n",
    "plt.xlabel('Epoch')\n",
    "plt.ylabel('Loss')\n",
    "plt.legend()\n",
    "\n",
    "# Show the plot\n",
    "plt.show()\n",
    "\n",
    "\"\"\"\n",
    "TODO: \n",
    "The validation_loss is increasing which could mean the model is overfitting.\n",
    "Working on adjusting stopping parameters.\n",
    "\"\"\""
   ]
  },
  {
   "cell_type": "code",
   "execution_count": 20,
   "metadata": {},
   "outputs": [],
   "source": [
    "test_ds = tf.data.Dataset.from_generator(FrameGenerator(subset_paths['test'], 6),                                       output_signature=output_signature)\n",
    "test_ds = test_ds.cache().shuffle(1000).prefetch(buffer_size=AUTOTUNE)\n",
    "test_ds = test_ds.batch(2)\n",
    "test_frames, test_labels = next(iter(test_ds))"
   ]
  },
  {
   "cell_type": "code",
   "execution_count": 21,
   "metadata": {},
   "outputs": [
    {
     "name": "stdout",
     "output_type": "stream",
     "text": [
      "114/114 [==============================] - 19s 148ms/step\n"
     ]
    }
   ],
   "source": [
    "y_pred  = model.predict(test_ds, verbose=1)\n",
    "y_pred_bool = np.argmax(y_pred, axis=1)"
   ]
  },
  {
   "cell_type": "code",
   "execution_count": 22,
   "metadata": {},
   "outputs": [],
   "source": [
    "from sklearn.metrics import classification_report\n",
    "\n",
    "# Assuming test_ds is a TensorFlow dataset and y_pred_bool is a NumPy array\n",
    "y_true_list = []\n",
    "for data, labels in test_ds:\n",
    "    y_true_list.extend(labels.numpy())\n",
    "\n",
    "y_true = np.array(y_true_list)\n",
    "y_pred_bool = np.array(y_pred_bool)\n"
   ]
  },
  {
   "cell_type": "code",
   "execution_count": 23,
   "metadata": {},
   "outputs": [],
   "source": [
    "# y_pred_bool = np.where(y_pred_bool == 1, 'violence', 'nonviolence')\n",
    "# y_true = np.where(y_true == 1, 'violence', 'nonviolence')"
   ]
  },
  {
   "cell_type": "code",
   "execution_count": 24,
   "metadata": {},
   "outputs": [
    {
     "data": {
      "text/plain": [
       "<sklearn.metrics._plot.confusion_matrix.ConfusionMatrixDisplay at 0x26c81127ed0>"
      ]
     },
     "execution_count": 24,
     "metadata": {},
     "output_type": "execute_result"
    },
    {
     "data": {
      "image/png": "[encoded data removed]",
      "text/plain": [
       "<Figure size 640x480 with 2 Axes>"
      ]
     },
     "metadata": {},
     "output_type": "display_data"
    }
   ],
   "source": [
    "cm = confusion_matrix(y_true, y_pred_bool)\n",
    "ConfusionMatrixDisplay(confusion_matrix=cm, display_labels=[\n",
    "    'NonViolence' , 'Violence'\n",
    "]).plot()"
   ]
  },
  {
   "cell_type": "code",
   "execution_count": 25,
   "metadata": {},
   "outputs": [
    {
     "name": "stdout",
     "output_type": "stream",
     "text": [
      "              precision    recall  f1-score   support\n",
      "\n",
      " NonViolence       0.83      1.00      0.91       190\n",
      "    Violence       0.00      0.00      0.00        38\n",
      "\n",
      "    accuracy                           0.83       228\n",
      "   macro avg       0.42      0.50      0.45       228\n",
      "weighted avg       0.69      0.83      0.76       228\n",
      "\n"
     ]
    },
    {
     "name": "stderr",
     "output_type": "stream",
     "text": [
      "c:\\Users\\bhuynh26\\AppData\\Local\\anaconda3\\Lib\\site-packages\\sklearn\\metrics\\_classification.py:1469: UndefinedMetricWarning: Precision and F-score are ill-defined and being set to 0.0 in labels with no predicted samples. Use `zero_division` parameter to control this behavior.\n",
      "  _warn_prf(average, modifier, msg_start, len(result))\n",
      "c:\\Users\\bhuynh26\\AppData\\Local\\anaconda3\\Lib\\site-packages\\sklearn\\metrics\\_classification.py:1469: UndefinedMetricWarning: Precision and F-score are ill-defined and being set to 0.0 in labels with no predicted samples. Use `zero_division` parameter to control this behavior.\n",
      "  _warn_prf(average, modifier, msg_start, len(result))\n",
      "c:\\Users\\bhuynh26\\AppData\\Local\\anaconda3\\Lib\\site-packages\\sklearn\\metrics\\_classification.py:1469: UndefinedMetricWarning: Precision and F-score are ill-defined and being set to 0.0 in labels with no predicted samples. Use `zero_division` parameter to control this behavior.\n",
      "  _warn_prf(average, modifier, msg_start, len(result))\n"
     ]
    }
   ],
   "source": [
    "# NV = 0, V = 1\n",
    "print(classification_report(y_true, y_pred_bool, target_names=['NonViolence', 'Violence']))"
   ]
  }
 ],
 "metadata": {
  "kernelspec": {
   "display_name": "Python 3",
   "language": "python",
   "name": "python3"
  },
  "language_info": {
   "codemirror_mode": {
    "name": "ipython",
    "version": 3
   },
   "file_extension": ".py",
   "mimetype": "text/x-python",
   "name": "python",
   "nbconvert_exporter": "python",
   "pygments_lexer": "ipython3",
   "version": "3.11.5"
  }
 },
 "nbformat": 4,
 "nbformat_minor": 2
}
